{
 "cells": [
  {
   "cell_type": "code",
   "execution_count": 44,
   "metadata": {},
   "outputs": [
    {
     "name": "stdout",
     "output_type": "stream",
     "text": [
      "2\n",
      "3\n",
      "4\n",
      "5\n",
      "\n",
      " \n",
      "6\n",
      "t\n",
      "g\n",
      "b\n",
      "s\n",
      "a\n",
      "u\n",
      "h\n",
      "d\n",
      "9\n",
      "s\n",
      "a\n",
      "6\n",
      "7\n",
      "\n",
      "*\n",
      "I\n",
      "\n",
      "{\n",
      "O\n",
      "P\n",
      "K\n",
      "D\n",
      "S\n",
      "l\n",
      "\n",
      ";\n",
      "j\n",
      "a\n",
      "k\n",
      "l\n",
      "h\n",
      "l\n",
      "\n",
      "\n",
      "\n"
     ]
    }
   ],
   "source": [
    "import re\n",
    "special = re.compile(r'[^A-Za-z0-9]+')\n",
    "f = open (\"sample.txt\", \"r+\")\n",
    "f1 = f.readline()\n",
    "\n",
    "\n",
    "\n",
    "for i in range(len(f1)):\n",
    "    if (re.match(special,f1[i])):\n",
    "        print()\n",
    "        print(f1[i])\n",
    "    else:\n",
    "        print(f1[i])\n"
   ]
  },
  {
   "cell_type": "code",
   "execution_count": null,
   "metadata": {},
   "outputs": [],
   "source": []
  },
  {
   "cell_type": "code",
   "execution_count": null,
   "metadata": {},
   "outputs": [],
   "source": []
  },
  {
   "cell_type": "code",
   "execution_count": null,
   "metadata": {},
   "outputs": [],
   "source": []
  },
  {
   "cell_type": "code",
   "execution_count": null,
   "metadata": {},
   "outputs": [],
   "source": []
  },
  {
   "cell_type": "code",
   "execution_count": null,
   "metadata": {},
   "outputs": [],
   "source": []
  },
  {
   "cell_type": "code",
   "execution_count": null,
   "metadata": {},
   "outputs": [],
   "source": []
  },
  {
   "cell_type": "code",
   "execution_count": null,
   "metadata": {},
   "outputs": [],
   "source": []
  },
  {
   "cell_type": "code",
   "execution_count": null,
   "metadata": {},
   "outputs": [],
   "source": []
  }
 ],
 "metadata": {
  "kernelspec": {
   "display_name": "Python 3",
   "language": "python",
   "name": "python3"
  },
  "language_info": {
   "codemirror_mode": {
    "name": "ipython",
    "version": 3
   },
   "file_extension": ".py",
   "mimetype": "text/x-python",
   "name": "python",
   "nbconvert_exporter": "python",
   "pygments_lexer": "ipython3",
   "version": "3.7.4"
  }
 },
 "nbformat": 4,
 "nbformat_minor": 4
}
